{
 "cells": [
  {
   "cell_type": "code",
   "execution_count": 33,
   "metadata": {},
   "outputs": [],
   "source": [
    "import os\n",
    "import csv\n",
    "from datetime import datetime"
   ]
  },
  {
   "cell_type": "code",
   "execution_count": 34,
   "metadata": {},
   "outputs": [
    {
     "name": "stdout",
     "output_type": "stream",
     "text": [
      "Enter name of fileemployee_data1\n"
     ]
    }
   ],
   "source": [
    "rawfile = input(\"Enter name of file\")\n",
    "rawfilepath = os.path.join(\"raw_data\",rawfile + \".csv\")\n",
    "#print (rawfilepath)"
   ]
  },
  {
   "cell_type": "code",
   "execution_count": 39,
   "metadata": {},
   "outputs": [
    {
     "name": "stdout",
     "output_type": "stream",
     "text": [
      "Enter output file nametest 4\n"
     ]
    }
   ],
   "source": [
    "outputfile = input(\"Enter output file name\")\n",
    "with open(rawfilepath, 'r',newline=\"\") as master, open(outputfile+\".csv\", 'w',newline=\"\") as matched:\n",
    "    cr = csv.reader(master)\n",
    "    cw = csv.writer(matched)\n",
    "    # write header to new file\n",
    "    cw.writerow(next(cr))  "
   ]
  },
  {
   "cell_type": "code",
   "execution_count": 40,
   "metadata": {
    "collapsed": true
   },
   "outputs": [],
   "source": [
    "us_state_abbrev = {\n",
    "    'Alabama': 'AL',\n",
    "    'Alaska': 'AK',\n",
    "    'Arizona': 'AZ',\n",
    "    'Arkansas': 'AR',\n",
    "    'California': 'CA',\n",
    "    'Colorado': 'CO',\n",
    "    'Connecticut': 'CT',\n",
    "    'Delaware': 'DE',\n",
    "    'Florida': 'FL',\n",
    "    'Georgia': 'GA',\n",
    "    'Hawaii': 'HI',\n",
    "    'Idaho': 'ID',\n",
    "    'Illinois': 'IL',\n",
    "    'Indiana': 'IN',\n",
    "    'Iowa': 'IA',\n",
    "    'Kansas': 'KS',\n",
    "    'Kentucky': 'KY',\n",
    "    'Louisiana': 'LA',\n",
    "    'Maine': 'ME',\n",
    "    'Maryland': 'MD',\n",
    "    'Massachusetts': 'MA',\n",
    "    'Michigan': 'MI',\n",
    "    'Minnesota': 'MN',\n",
    "    'Mississippi': 'MS',\n",
    "    'Missouri': 'MO',\n",
    "    'Montana': 'MT',\n",
    "    'Nebraska': 'NE',\n",
    "    'Nevada': 'NV',\n",
    "    'New Hampshire': 'NH',\n",
    "    'New Jersey': 'NJ',\n",
    "    'New Mexico': 'NM',\n",
    "    'New York': 'NY',\n",
    "    'North Carolina': 'NC',\n",
    "    'North Dakota': 'ND',\n",
    "    'Ohio': 'OH',\n",
    "    'Oklahoma': 'OK',\n",
    "    'Oregon': 'OR',\n",
    "    'Pennsylvania': 'PA',\n",
    "    'Rhode Island': 'RI',\n",
    "    'South Carolina': 'SC',\n",
    "    'South Dakota': 'SD',\n",
    "    'Tennessee': 'TN',\n",
    "    'Texas': 'TX',\n",
    "    'Utah': 'UT',\n",
    "    'Vermont': 'VT',\n",
    "    'Virginia': 'VA',\n",
    "    'Washington': 'WA',\n",
    "    'West Virginia': 'WV',\n",
    "    'Wisconsin': 'WI',\n",
    "    'Wyoming': 'WY',\n",
    "}"
   ]
  },
  {
   "cell_type": "code",
   "execution_count": 41,
   "metadata": {},
   "outputs": [],
   "source": [
    "with open(rawfilepath, \"r\", newline = \"\") as bossdata:\n",
    "    bossdatacsv = csv.reader(bossdata, delimiter=',')\n",
    "\n",
    "    #skip headers\n",
    "    next(bossdatacsv, None)\n",
    "    \n",
    "    for row in bossdatacsv:\n",
    "#The Name column should be split into separate First Name and Last Name columns. \n",
    "        first, last = row[1].split(\" \") \n",
    "        #print (first, last)\n",
    "\n",
    "#The DOB data should be re-written into DD/MM/YYYY format.\n",
    "        oldformat = row[2]\n",
    "        datetimeobject = datetime.strptime(oldformat,'%Y-%m-%d')\n",
    "        newformat = datetimeobject.strftime('%m/%d/%Y')\n",
    "        #print (newformat)\n",
    "\n",
    "#The SSN data should be re-written such that the first five numbers are hidden from view.\n",
    "        set1, set2, set3 = row[3].split(\"-\")\n",
    "        encryptedssn = \"***-***-\"+set3\n",
    "        #print (encryptedssn)\n",
    "\n",
    "#The State data should be re-written as simple two-letter abbreviations.\n",
    "        for k, v in us_state_abbrev.items():\n",
    "            s = us_state_abbrev[row[4]]\n",
    "        employee = [row[0], first, last, newformat, s]\n",
    "        #print (employee)\n",
    "        with open(outputfile+\".csv\", 'a',newline=\"\") as matched:\n",
    "            cw = csv.writer(matched)\n",
    "            cw.writerow(employee)"
   ]
  },
  {
   "cell_type": "code",
   "execution_count": null,
   "metadata": {
    "collapsed": true
   },
   "outputs": [],
   "source": []
  }
 ],
 "metadata": {
  "kernelspec": {
   "display_name": "Python 3",
   "language": "python",
   "name": "python3"
  },
  "language_info": {
   "codemirror_mode": {
    "name": "ipython",
    "version": 3
   },
   "file_extension": ".py",
   "mimetype": "text/x-python",
   "name": "python",
   "nbconvert_exporter": "python",
   "pygments_lexer": "ipython3",
   "version": "3.6.2"
  }
 },
 "nbformat": 4,
 "nbformat_minor": 2
}
