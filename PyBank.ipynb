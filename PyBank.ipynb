{
 "cells": [
  {
   "cell_type": "code",
   "execution_count": 2,
   "metadata": {
    "collapsed": true
   },
   "outputs": [],
   "source": [
    "import os\n",
    "import csv"
   ]
  },
  {
   "cell_type": "code",
   "execution_count": 26,
   "metadata": {},
   "outputs": [
    {
     "name": "stdout",
     "output_type": "stream",
     "text": [
      "[]\n"
     ]
    }
   ],
   "source": [
    "#make array of months\n",
    "months=[]\n",
    "\n",
    "#make array of monthrevenue\n",
    "monthrevenue=[]"
   ]
  },
  {
   "cell_type": "code",
   "execution_count": 1,
   "metadata": {},
   "outputs": [
    {
     "name": "stdout",
     "output_type": "stream",
     "text": [
      "Enter name of csv filebudget_data_1\n"
     ]
    }
   ],
   "source": [
    "budget_data_file = input (\"Enter name of csv file\")"
   ]
  },
  {
   "cell_type": "code",
   "execution_count": 5,
   "metadata": {},
   "outputs": [],
   "source": [
    "#define filepath and open csv file in read mode\n",
    "\n",
    "budget_data_path = os.path.join(\"raw_data\", budget_data_file + \".csv\")\n",
    "\n"
   ]
  },
  {
   "cell_type": "code",
   "execution_count": 37,
   "metadata": {
    "scrolled": true
   },
   "outputs": [
    {
     "name": "stdout",
     "output_type": "stream",
     "text": [
      "0\n"
     ]
    }
   ],
   "source": [
    "with open (budget_data_path, 'r', newline =\"\") as budget_data_csv:\n",
    "    #split the data on commas\n",
    "    csvreader = csv.reader(budget_data_csv, delimiter=',')\n",
    "\n",
    "    # skip headers\n",
    "    next(csvreader, None)\n",
    "    \n",
    "    date = row[0]\n",
    "    rowmonth = date [:3]\n",
    "    totrevenue = 0\n",
    "    \n",
    "    for row in csvreader:\n",
    "        \n",
    "        #1) total number of months\n",
    "         \n",
    "        if rowmonth not in months:\n",
    "            months.append(rowmonth)\n",
    "        \n",
    "        #2)total amount of revenue gained\n",
    "        totrevenue = totrevenue + int(row [1])\n",
    "        \n",
    "    #3)The average change in revenue between months over the entire period\n",
    "    #for each monthperiod in months:\n",
    "        monthsubtot = 0 \n",
    "        \n",
    "        for row in csvreader:\n",
    "            if rowmonth = row[0]:\n",
    "                monthsubtot = monthsubtot + row[1]\n",
    "        \n",
    "        monthrevenue.append (monthsubtot)\n",
    "            \n",
    "        avgmonthdelta = (totrevenue-monthrevenue[index(Dec)])/(len(months)-1)\n",
    "        \n",
    "        #4)The greatest increase in revenue (date and amount) over the entire period\n",
    "    \n",
    "    \n",
    "        #5)The greatest decrease in revenue (date and amount) over the entire period\n",
    "            \n"
   ]
  },
  {
   "cell_type": "code",
   "execution_count": null,
   "metadata": {
    "collapsed": true
   },
   "outputs": [],
   "source": [
    "#6)export a text file with the results\n",
    "# create new csv\n",
    "budget_summary_path = os.path.join('output', budget_data_file + \"_summary.txt\")\n",
    "with open (budget_summary_path, 'w', newline = |) as budget_summary_file:\n",
    "    #text file header\n",
    "    budget_summary_file.write(\"Financial Data\" | \"----------------------\")\n",
    "    \n",
    "    #1)The total number of months included in the dataset\n",
    "    budget_summary_file.write(\"Total Months: \" + len(months))\n",
    "    \n",
    "    #2)The total amount of revenue gained over the entire period\n",
    "    budget_summary_file.write(totrevenue)\n",
    "    \n",
    "    #3)The average change in revenue between months over the entire period\n",
    "    budget_summary_file.write(totrevenue-m)\n",
    "    \n",
    "    #4)The greatest increase in revenue (date and amount) over the entire period\n",
    "    \n",
    "    \n",
    "    #5)The greatest decrease in revenue (date and amount) over the entire period\n",
    "    \n",
    "    \n",
    "    "
   ]
  }
 ],
 "metadata": {
  "kernelspec": {
   "display_name": "Python 3",
   "language": "python",
   "name": "python3"
  },
  "language_info": {
   "codemirror_mode": {
    "name": "ipython",
    "version": 3
   },
   "file_extension": ".py",
   "mimetype": "text/x-python",
   "name": "python",
   "nbconvert_exporter": "python",
   "pygments_lexer": "ipython3",
   "version": "3.6.3"
  }
 },
 "nbformat": 4,
 "nbformat_minor": 2
}
