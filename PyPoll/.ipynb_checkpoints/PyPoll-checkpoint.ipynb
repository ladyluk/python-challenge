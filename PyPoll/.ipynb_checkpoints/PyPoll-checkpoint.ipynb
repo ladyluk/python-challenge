{
 "cells": [
  {
   "cell_type": "code",
   "execution_count": 1,
   "metadata": {
    "collapsed": true
   },
   "outputs": [],
   "source": [
    "import os\n",
    "import csv"
   ]
  },
  {
   "cell_type": "code",
   "execution_count": 2,
   "metadata": {},
   "outputs": [
    {
     "name": "stdout",
     "output_type": "stream",
     "text": [
      "Enter name of csv fileelection_data_1\n"
     ]
    }
   ],
   "source": [
    "votefilename = input (\"Enter name of csv file\")"
   ]
  },
  {
   "cell_type": "code",
   "execution_count": 3,
   "metadata": {
    "collapsed": true
   },
   "outputs": [],
   "source": [
    "#define filepath and open csv file in read mode\n",
    "votefilepath = os.path.join(\"raw_data\", votefilename + \".csv\")"
   ]
  },
  {
   "cell_type": "code",
   "execution_count": 19,
   "metadata": {},
   "outputs": [
    {
     "name": "stdout",
     "output_type": "stream",
     "text": [
      "4\n",
      "['Vestal', 'Torres', 'Seth', 'Cordin']\n",
      "{'Vestal': 385440, 'Torres': 353320, 'Seth': 40150, 'Cordin': 24090}\n"
     ]
    }
   ],
   "source": [
    "with open (votefilepath, 'r', newline =\"\") as votecsv:\n",
    "    #split the data on commas\n",
    "    csvreader = csv.reader(votecsv, delimiter=',')\n",
    "\n",
    "    #skip headers\n",
    "        #Voter ID\n",
    "        #County\n",
    "        #Candidate\n",
    "    next(csvreader, None)\n",
    "    \n",
    "    candidates=[]\n",
    "    votecount=[]\n",
    "\n",
    "#1)The total number of votes casted\n",
    "    totvotecount = 0\n",
    "    #loop through the rows in the file\n",
    "    for row in csvreader:\n",
    "        if row[0] != \"\":\n",
    "            totvotecount = totvotecount + 1\n",
    "\n",
    "#2) A complete list of candidates who received votes\n",
    "#4) The total number of votes each candidate won\n",
    "        if row[2] not in candidates:\n",
    "            candidates.append(row[2])\n",
    "            votecount.append(1)\n",
    "        else:\n",
    "            #candidatesname = row[2]\n",
    "            #candidatesindext = candidates.index(candidatesname)\n",
    "            #print (candidates[row[2]])\n",
    "            votecount [candidates.index(row[2])] = votecount [candidates.index(row[2])] + 1\n",
    "votedict ={}\n",
    "numcandidates = len(candidates)\n",
    "print (numcandidates)\n",
    "for x in range (len(candidates)):\n",
    "    votedict [candidates[x]]=votecount[x]\n",
    "    \n",
    "print (candidates)\n",
    "print (votedict)"
   ]
  },
  {
   "cell_type": "code",
   "execution_count": 21,
   "metadata": {},
   "outputs": [
    {
     "name": "stdout",
     "output_type": "stream",
     "text": [
      "Election Results \n",
      " ---------------------------------\n",
      "Total Votes: 803000\n",
      "--------------------------------\n",
      "Vestal: 0.48 (385440)\n",
      "Torres: 0.44 (353320)\n",
      "Seth: 0.05 (40150)\n",
      "Cordin: 0.03 (24090)\n",
      "--------------------------------\n",
      "Winner: Vestal\n"
     ]
    }
   ],
   "source": [
    "print (\"Election Results \\n ---------------------------------\")\n",
    "print (\"Total Votes: \" + str(totvotecount))\n",
    "print (\"--------------------------------\")\n",
    "#4) The total number of votes each candidate won\n",
    "#3) The percentage of votes each candidate won\n",
    "for k, v in votedict.items():\n",
    "    print (k + \": \"+ str(v/totvotecount)+ \" (\" +str(v)+\")\")\n",
    "print (\"--------------------------------\")\n",
    "        \n",
    "#5) The winner of the election based on popular vote.\n",
    "winner = max(votedict, key = votedict.get)\n",
    "print (\"Winner: \"+ winner)    \n",
    "print (\"--------------------------------\")"
   ]
  },
  {
   "cell_type": "code",
   "execution_count": null,
   "metadata": {
    "collapsed": true
   },
   "outputs": [],
   "source": [
    "#export to text file\n",
    "open ('newFile.txt', 'w', newline =\"\") as new_txt_file:\n",
    "new_txt_file.write()\n",
    "    \n",
    "#csvWriter = csv.writer(csvFile, delimiter=',')   \n",
    "# file-output.py\n",
    "f = open('helloworld.txt','w')\n",
    "print>>f print (\"Election Results \\n ---------------------------------\")\n",
    "print (\"Total Votes: \" + str(totvotecount))\n",
    "print (\"--------------------------------\")\n",
    "#4) The total number of votes each candidate won\n",
    "#3) The percentage of votes each candidate won\n",
    "for k, v in votedict.items():\n",
    "    print (k + \": \"+ str(v/totvotecount)+ \" (\" +str(v)+\")\")\n",
    "print (\"--------------------------------\")\n",
    "        \n",
    "#5) The winner of the election based on popular vote.\n",
    "winner = max(votedict, key = votedict.get)\n",
    "print (\"Winner: \"+ winner)    \n",
    "print (\"--------------------------------\")\n",
    "f.write('hello world')\n",
    "f.close()"
   ]
  }
 ],
 "metadata": {
  "kernelspec": {
   "display_name": "Python 3",
   "language": "python",
   "name": "python3"
  },
  "language_info": {
   "codemirror_mode": {
    "name": "ipython",
    "version": 3
   },
   "file_extension": ".py",
   "mimetype": "text/x-python",
   "name": "python",
   "nbconvert_exporter": "python",
   "pygments_lexer": "ipython3",
   "version": "3.6.3"
  }
 },
 "nbformat": 4,
 "nbformat_minor": 2
}
